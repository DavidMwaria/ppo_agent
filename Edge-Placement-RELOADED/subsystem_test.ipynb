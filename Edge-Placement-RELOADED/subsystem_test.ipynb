{
 "cells": [
  {
   "cell_type": "code",
   "execution_count": 2,
   "outputs": [],
   "source": [
    "import numpy as np\n",
    "# import self-defined entities\n",
    "# from ReqGen import *\n",
    "# from EdgeTopo import *\n",
    "from Env import *\n"
   ],
   "metadata": {
    "collapsed": false,
    "ExecuteTime": {
     "end_time": "2023-07-24T16:44:28.500938300Z",
     "start_time": "2023-07-24T16:44:26.359352500Z"
    }
   }
  },
  {
   "cell_type": "code",
   "execution_count": 3,
   "metadata": {
    "ExecuteTime": {
     "end_time": "2023-07-24T16:44:28.516946300Z",
     "start_time": "2023-07-24T16:44:28.500938300Z"
    }
   },
   "outputs": [],
   "source": [
    "topo1= Topo(4,10)\n",
    "env = Environment(topo1)\n"
   ]
  },
  {
   "cell_type": "code",
   "execution_count": 4,
   "metadata": {
    "ExecuteTime": {
     "end_time": "2023-07-24T16:44:28.548935200Z",
     "start_time": "2023-07-24T16:44:28.516946300Z"
    }
   },
   "outputs": [],
   "source": [
    "req = SFC_req(1,1,2,30,0.99,0.1,0.2)\n",
    "req.action=1\n",
    "env.valid_deploy(req)"
   ]
  },
  {
   "cell_type": "code",
   "execution_count": 5,
   "metadata": {
    "ExecuteTime": {
     "end_time": "2023-07-24T16:44:28.548935200Z",
     "start_time": "2023-07-24T16:44:28.532894700Z"
    }
   },
   "outputs": [
    {
     "data": {
      "text/plain": "[100,\n 100,\n 70,\n 100,\n 70,\n 100,\n 100,\n 100,\n 100,\n 100,\n 100,\n 100,\n 70,\n 100,\n 100,\n 100,\n 100,\n 100,\n 100,\n 70,\n 100,\n 100,\n 100,\n 100,\n 100,\n 100,\n 100,\n 100]"
     },
     "execution_count": 5,
     "metadata": {},
     "output_type": "execute_result"
    }
   ],
   "source": [
    "env.topo.get_R_BW()\n"
   ]
  },
  {
   "cell_type": "code",
   "execution_count": 6,
   "metadata": {
    "ExecuteTime": {
     "end_time": "2023-07-24T16:44:28.564585700Z",
     "start_time": "2023-07-24T16:44:28.548935200Z"
    }
   },
   "outputs": [
    {
     "data": {
      "text/plain": "[10, 8, 10, 10, 8, 10, 10, 8, 10, 10]"
     },
     "execution_count": 6,
     "metadata": {},
     "output_type": "execute_result"
    }
   ],
   "source": [
    "env.topo.get_R_CPU()"
   ]
  },
  {
   "cell_type": "code",
   "execution_count": 7,
   "metadata": {
    "ExecuteTime": {
     "end_time": "2023-07-24T16:44:28.659226600Z",
     "start_time": "2023-07-24T16:44:28.564585700Z"
    }
   },
   "outputs": [
    {
     "data": {
      "text/plain": "[100,\n 100,\n 100,\n 100,\n 100,\n 100,\n 100,\n 100,\n 100,\n 100,\n 100,\n 100,\n 100,\n 100,\n 100,\n 100,\n 100,\n 100,\n 100,\n 100,\n 100,\n 100,\n 100,\n 100,\n 100,\n 100,\n 100,\n 100]"
     },
     "execution_count": 7,
     "metadata": {},
     "output_type": "execute_result"
    }
   ],
   "source": [
    "env.req_remove(req)\n",
    "env.topo.get_R_BW()"
   ]
  },
  {
   "cell_type": "code",
   "execution_count": 8,
   "metadata": {
    "ExecuteTime": {
     "end_time": "2023-07-24T16:44:28.674617Z",
     "start_time": "2023-07-24T16:44:28.580393Z"
    }
   },
   "outputs": [
    {
     "data": {
      "text/plain": "[10, 10, 10, 10, 10, 10, 10, 10, 10, 10]"
     },
     "execution_count": 8,
     "metadata": {},
     "output_type": "execute_result"
    }
   ],
   "source": [
    "env.topo.get_R_CPU()"
   ]
  },
  {
   "cell_type": "code",
   "execution_count": 9,
   "metadata": {
    "ExecuteTime": {
     "end_time": "2023-07-24T16:44:28.674617Z",
     "start_time": "2023-07-24T16:44:28.596039600Z"
    }
   },
   "outputs": [
    {
     "name": "stdout",
     "output_type": "stream",
     "text": [
      "*  0-2-1   0.19\n",
      "*  0-3-1   0.17\n",
      "*  1-2-1   0.21\n",
      "*  1-3-1   0.22\n",
      "*  1-2-2   0.17\n",
      "*  1-3-2   0.18\n",
      "*  0-3-2   0.21\n",
      "*  0-2-2   0.18\n",
      "#  1-2-1\n",
      "#  1-3-1\n",
      "#  0-3-2\n"
     ]
    }
   ],
   "source": [
    "env.cur_req_list=[]\n",
    "env.cur_req_list.append(SFC_req(1,0,2,30,0.99,0.15,0.19))\n",
    "env.cur_req_list.append(SFC_req(1,0,3,30,0.99,0.12,0.17))\n",
    "env.cur_req_list.append(SFC_req(1,1,2,30,0.99,0.17,0.21))\n",
    "env.cur_req_list.append(SFC_req(1,1,3,30,0.99,0.16,0.22))\n",
    "env.cur_req_list.append(SFC_req(2,1,2,30,0.99,0.15,0.17))\n",
    "env.cur_req_list.append(SFC_req(2,1,3,30,0.99,0.13,0.18))\n",
    "env.cur_req_list.append(SFC_req(2,0,3,30,0.99,0.13,0.21))\n",
    "env.cur_req_list.append(SFC_req(2,0,2,30,0.99,0.13,0.18))\n",
    "next_arr_TS = 0.2\n",
    "for i in range(len(env.cur_req_list)):\n",
    "    print('* ', env.cur_req_list[i].vnf_id,' ',env.cur_req_list[i].leave_TS)\n",
    "env.update_env(next_arr_TS)\n",
    "for i in range(len(env.cur_req_list)):\n",
    "    print('# ', env.cur_req_list[i].vnf_id)"
   ]
  },
  {
   "cell_type": "code",
   "execution_count": 10,
   "metadata": {
    "ExecuteTime": {
     "end_time": "2023-07-24T16:44:28.674617Z",
     "start_time": "2023-07-24T16:44:28.611660300Z"
    }
   },
   "outputs": [
    {
     "name": "stdout",
     "output_type": "stream",
     "text": [
      "0.9841499999999997\n",
      "0.39366\n"
     ]
    }
   ],
   "source": [
    "b=env.reward(SFC_req(2,0,2,30,0.99,0.13,0.18))\n",
    "print(b)\n",
    "b=env.reward(SFC_req(1,1,3,10,0.99,0.16,0.22))\n",
    "print(b)"
   ]
  },
  {
   "cell_type": "code",
   "execution_count": 11,
   "outputs": [
    {
     "name": "stdout",
     "output_type": "stream",
     "text": [
      "[[1], [2, 3], [4]]\n",
      "3\n",
      "2\n"
     ]
    }
   ],
   "source": [
    "from typing import Dict, List\n",
    "pattern: List[List[int]]\n",
    "pattern = [[1], [2, 3], [4]]\n",
    "print(pattern)\n",
    "print(len(pattern))\n",
    "print(len(pattern[1]))"
   ],
   "metadata": {
    "collapsed": false,
    "ExecuteTime": {
     "end_time": "2023-07-24T16:44:28.674617Z",
     "start_time": "2023-07-24T16:44:28.627299Z"
    }
   }
  },
  {
   "cell_type": "code",
   "execution_count": 11,
   "outputs": [],
   "source": [],
   "metadata": {
    "collapsed": false,
    "ExecuteTime": {
     "end_time": "2023-07-24T16:44:28.674617Z",
     "start_time": "2023-07-24T16:44:28.659226600Z"
    }
   }
  }
 ],
 "metadata": {
  "kernelspec": {
   "display_name": "Python 3 (ipykernel)",
   "language": "python",
   "name": "python3"
  },
  "language_info": {
   "codemirror_mode": {
    "name": "ipython",
    "version": 3
   },
   "file_extension": ".py",
   "mimetype": "text/x-python",
   "name": "python",
   "nbconvert_exporter": "python",
   "pygments_lexer": "ipython3",
   "version": "3.9.13"
  },
  "vscode": {
   "interpreter": {
    "hash": "b09ec625f77bf4fd762565a912b97636504ad6ec901eb2d0f4cf5a7de23e1ee5"
   }
  }
 },
 "nbformat": 4,
 "nbformat_minor": 2
}
